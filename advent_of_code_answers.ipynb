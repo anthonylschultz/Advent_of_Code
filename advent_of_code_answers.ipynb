{
 "cells": [
  {
   "cell_type": "markdown",
   "metadata": {
    "toc": true
   },
   "source": [
    "<h1>Table of Contents<span class=\"tocSkip\"></span></h1>\n",
    "<div class=\"toc\"><ul class=\"toc-item\"><li><span><a href=\"#Day-1:-Report-Repair\" data-toc-modified-id=\"Day-1:-Report-Repair-1\"><strong>Day 1: Report Repair</strong></a></span></li><li><span><a href=\"#Day-2:-Password-Philosophy\" data-toc-modified-id=\"Day-2:-Password-Philosophy-2\"><strong>Day 2: Password Philosophy</strong></a></span></li></ul></div>"
   ]
  },
  {
   "cell_type": "code",
   "execution_count": 6,
   "metadata": {},
   "outputs": [
    {
     "name": "stdout",
     "output_type": "stream",
     "text": [
      "/Users/aschul/Galvanize/practice/Advent_of_Code\n"
     ]
    }
   ],
   "source": [
    "cd Advent_of_Code/\n"
   ]
  },
  {
   "cell_type": "code",
   "execution_count": 3,
   "metadata": {},
   "outputs": [],
   "source": [
    "import pandas as pd\n",
    "import numpy as np"
   ]
  },
  {
   "cell_type": "markdown",
   "metadata": {},
   "source": [
    "# **Day 1: Report Repair**"
   ]
  },
  {
   "cell_type": "code",
   "execution_count": 4,
   "metadata": {},
   "outputs": [
    {
     "data": {
      "text/plain": [
       "'value #1: 889, value #2: 1131, product: 1005459'"
      ]
     },
     "execution_count": 4,
     "metadata": {},
     "output_type": "execute_result"
    }
   ],
   "source": [
    "# import the data\n",
    "data = pd.read_csv('day_1_data.txt', header=0)\n",
    "\n",
    "# convert txt data to list\n",
    "expenses = data.values.tolist()\n",
    "\n",
    "# convert list of lists to list\n",
    "expenses_list = []\n",
    "for i in expenses:\n",
    "    expenses_list.append(i[0])\n",
    "\n",
    "def find_sum(expenses_list):\n",
    "    '''\n",
    "    input - list\n",
    "    outputs: \n",
    "    1) two numbers that sum to 2020\n",
    "    2) product of those two numbers\n",
    "    '''\n",
    "    diff_list = []\n",
    "    \n",
    "    for val in expenses_list:\n",
    "        diff_list.append(2020-val)\n",
    "    \n",
    "    for val in expenses_list:\n",
    "        for diff in diff_list:\n",
    "            if val == diff:\n",
    "                diff = 2020-val\n",
    "                return (f'value #1: {val}, value #2: {diff}, product: {val*diff}')\n",
    "            \n",
    "    \n",
    "find_sum(expenses_list)    "
   ]
  },
  {
   "cell_type": "markdown",
   "metadata": {},
   "source": [
    "# **Day 2: Password Philosophy**"
   ]
  },
  {
   "cell_type": "code",
   "execution_count": 121,
   "metadata": {},
   "outputs": [
    {
     "name": "stdout",
     "output_type": "stream",
     "text": [
      "418\n"
     ]
    }
   ],
   "source": [
    "# read in data\n",
    "df = pd.read_csv('passwords.txt', header=None)\n",
    "\n",
    "# split data into columns by delim\n",
    "df[[0, 'values']] = df[0].str.split(':', expand=True)\n",
    "df[[0, 'char']] = df[0].str.split(' ', expand=True)\n",
    "df[[0, 'min']] = df[0].str.split('-', expand=True)\n",
    "\n",
    "# rename columns\n",
    "df = df.rename(columns={0:\"min\", \"values\":\"policy\", \"char\":\"char\", \"min\":\"max\"})\n",
    "\n",
    "# convert df columns to lists\n",
    "char = df['char'].values.tolist()\n",
    "max_v = df['max'].values.tolist()\n",
    "min_v = df['min'].values.tolist()\n",
    "policy = df['policy'].values.tolist()\n",
    "\n",
    "# count values of char in password policy\n",
    "list_count = []\n",
    "for i in range(len(policy)):\n",
    "    list_count.append(policy[i].count(char[i]))\n",
    "\n",
    "# convert max_v and min_v to ints\n",
    "max_int = [int(i) for i in max_v]\n",
    "min_int = [int(i) for i in min_v]\n",
    "\n",
    "# check if count of char is greater than the min or max policy, sum instances of True\n",
    "check = []\n",
    "for i in range(len(policy)):\n",
    "    check.append(list_count[i] >= min_int[i] and list_count[i] <= max_int[i])\n",
    "print(sum(check))"
   ]
  },
  {
   "cell_type": "code",
   "execution_count": 86,
   "metadata": {},
   "outputs": [],
   "source": []
  },
  {
   "cell_type": "code",
   "execution_count": null,
   "metadata": {},
   "outputs": [],
   "source": []
  },
  {
   "cell_type": "code",
   "execution_count": null,
   "metadata": {},
   "outputs": [],
   "source": []
  },
  {
   "cell_type": "code",
   "execution_count": null,
   "metadata": {},
   "outputs": [],
   "source": []
  },
  {
   "cell_type": "code",
   "execution_count": null,
   "metadata": {},
   "outputs": [],
   "source": []
  }
 ],
 "metadata": {
  "kernelspec": {
   "display_name": "Python 3.7.3 64-bit ('base': conda)",
   "language": "python",
   "name": "python37364bitbaseconda97b54b0afe5f4f968b0e6a2edab277da"
  },
  "language_info": {
   "codemirror_mode": {
    "name": "ipython",
    "version": 3
   },
   "file_extension": ".py",
   "mimetype": "text/x-python",
   "name": "python",
   "nbconvert_exporter": "python",
   "pygments_lexer": "ipython3",
   "version": "3.7.7"
  },
  "toc": {
   "base_numbering": 1,
   "nav_menu": {},
   "number_sections": false,
   "sideBar": true,
   "skip_h1_title": false,
   "title_cell": "Table of Contents",
   "title_sidebar": "Contents",
   "toc_cell": true,
   "toc_position": {
    "height": "calc(100% - 180px)",
    "left": "10px",
    "top": "150px",
    "width": "294.797px"
   },
   "toc_section_display": true,
   "toc_window_display": false
  }
 },
 "nbformat": 4,
 "nbformat_minor": 4
}
